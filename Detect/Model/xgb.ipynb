{
 "cells": [
  {
   "cell_type": "code",
   "execution_count": 1,
   "id": "1d8f8068",
   "metadata": {},
   "outputs": [],
   "source": [
    "import numpy as np\n",
    "import pandas as pd\n",
    "test_features=[\"/Users/yangqingyi/Desktop/trainxgb/fuse_features.npy\"]\n",
    "train=np.load(test_features[0])\n",
    "ytrain=np.squeeze(np.load(\"/Users/yangqingyi/Desktop/trainxgb/labels_target.npz\")['arr_0'])"
   ]
  },
  {
   "cell_type": "code",
   "execution_count": 3,
   "id": "48d381a8",
   "metadata": {
    "scrolled": false
   },
   "outputs": [
    {
     "name": "stdout",
     "output_type": "stream",
     "text": [
      "|   iter    |  target   | colsam... | learni... | max_depth | n_esti... | subsample |\n",
      "-------------------------------------------------------------------------------------\n"
     ]
    },
    {
     "name": "stderr",
     "output_type": "stream",
     "text": [
      "5it [00:04,  1.10it/s]\n"
     ]
    },
    {
     "name": "stdout",
     "output_type": "stream",
     "text": [
      "| \u001b[0m1        \u001b[0m | \u001b[0m-8.921   \u001b[0m | \u001b[0m0.4366   \u001b[0m | \u001b[0m0.06167  \u001b[0m | \u001b[0m10.5     \u001b[0m | \u001b[0m491.8    \u001b[0m | \u001b[0m0.4209   \u001b[0m |\n"
     ]
    },
    {
     "name": "stderr",
     "output_type": "stream",
     "text": [
      "5it [00:01,  2.92it/s]\n"
     ]
    },
    {
     "name": "stdout",
     "output_type": "stream",
     "text": [
      "| \u001b[0m2        \u001b[0m | \u001b[0m-9.873   \u001b[0m | \u001b[0m0.331    \u001b[0m | \u001b[0m0.1421   \u001b[0m | \u001b[0m11.19    \u001b[0m | \u001b[0m369.7    \u001b[0m | \u001b[0m0.2676   \u001b[0m |\n"
     ]
    },
    {
     "name": "stderr",
     "output_type": "stream",
     "text": [
      "5it [00:02,  1.95it/s]\n"
     ]
    },
    {
     "name": "stdout",
     "output_type": "stream",
     "text": [
      "| \u001b[0m3        \u001b[0m | \u001b[0m-13.96   \u001b[0m | \u001b[0m0.6215   \u001b[0m | \u001b[0m0.2881   \u001b[0m | \u001b[0m6.346    \u001b[0m | \u001b[0m562.2    \u001b[0m | \u001b[0m0.1853   \u001b[0m |\n"
     ]
    },
    {
     "name": "stderr",
     "output_type": "stream",
     "text": [
      "5it [00:03,  1.34it/s]\n"
     ]
    },
    {
     "name": "stdout",
     "output_type": "stream",
     "text": [
      "| \u001b[0m4        \u001b[0m | \u001b[0m-2.792e+0\u001b[0m | \u001b[0m0.7855   \u001b[0m | \u001b[0m0.4343   \u001b[0m | \u001b[0m9.942    \u001b[0m | \u001b[0m861.9    \u001b[0m | \u001b[0m0.08057  \u001b[0m |\n"
     ]
    },
    {
     "name": "stderr",
     "output_type": "stream",
     "text": [
      "5it [00:01,  4.85it/s]\n"
     ]
    },
    {
     "name": "stdout",
     "output_type": "stream",
     "text": [
      "| \u001b[0m5        \u001b[0m | \u001b[0m-9.502   \u001b[0m | \u001b[0m0.5057   \u001b[0m | \u001b[0m0.07938  \u001b[0m | \u001b[0m9.281    \u001b[0m | \u001b[0m186.9    \u001b[0m | \u001b[0m0.128    \u001b[0m |\n"
     ]
    },
    {
     "name": "stderr",
     "output_type": "stream",
     "text": [
      "5it [00:02,  2.05it/s]\n"
     ]
    },
    {
     "name": "stdout",
     "output_type": "stream",
     "text": [
      "| \u001b[0m6        \u001b[0m | \u001b[0m-9.802   \u001b[0m | \u001b[0m0.5971   \u001b[0m | \u001b[0m0.1517   \u001b[0m | \u001b[0m6.069    \u001b[0m | \u001b[0m298.3    \u001b[0m | \u001b[0m0.3505   \u001b[0m |\n"
     ]
    },
    {
     "name": "stderr",
     "output_type": "stream",
     "text": [
      "5it [00:04,  1.19it/s]\n"
     ]
    },
    {
     "name": "stdout",
     "output_type": "stream",
     "text": [
      "| \u001b[0m7        \u001b[0m | \u001b[0m-9.639   \u001b[0m | \u001b[0m0.4683   \u001b[0m | \u001b[0m0.1408   \u001b[0m | \u001b[0m11.4     \u001b[0m | \u001b[0m534.8    \u001b[0m | \u001b[0m0.5057   \u001b[0m |\n"
     ]
    },
    {
     "name": "stderr",
     "output_type": "stream",
     "text": [
      "5it [00:01,  4.23it/s]\n"
     ]
    },
    {
     "name": "stdout",
     "output_type": "stream",
     "text": [
      "| \u001b[0m8        \u001b[0m | \u001b[0m-10.81   \u001b[0m | \u001b[0m0.3875   \u001b[0m | \u001b[0m0.4071   \u001b[0m | \u001b[0m10.8     \u001b[0m | \u001b[0m246.1    \u001b[0m | \u001b[0m0.7011   \u001b[0m |\n"
     ]
    },
    {
     "name": "stderr",
     "output_type": "stream",
     "text": [
      "5it [00:03,  1.37it/s]\n"
     ]
    },
    {
     "name": "stdout",
     "output_type": "stream",
     "text": [
      "| \u001b[0m9        \u001b[0m | \u001b[0m-9.594   \u001b[0m | \u001b[0m0.9646   \u001b[0m | \u001b[0m0.275    \u001b[0m | \u001b[0m13.9     \u001b[0m | \u001b[0m407.5    \u001b[0m | \u001b[0m0.5676   \u001b[0m |\n"
     ]
    },
    {
     "name": "stderr",
     "output_type": "stream",
     "text": [
      "5it [00:02,  1.90it/s]\n"
     ]
    },
    {
     "name": "stdout",
     "output_type": "stream",
     "text": [
      "| \u001b[0m10       \u001b[0m | \u001b[0m-8.948   \u001b[0m | \u001b[0m0.4281   \u001b[0m | \u001b[0m0.2465   \u001b[0m | \u001b[0m12.77    \u001b[0m | \u001b[0m582.0    \u001b[0m | \u001b[0m0.9538   \u001b[0m |\n"
     ]
    },
    {
     "name": "stderr",
     "output_type": "stream",
     "text": [
      "5it [00:04,  1.18it/s]\n"
     ]
    },
    {
     "name": "stdout",
     "output_type": "stream",
     "text": [
      "| \u001b[95m11       \u001b[0m | \u001b[95m-8.73    \u001b[0m | \u001b[95m0.3809   \u001b[0m | \u001b[95m0.07164  \u001b[0m | \u001b[95m6.116    \u001b[0m | \u001b[95m568.7    \u001b[0m | \u001b[95m0.3679   \u001b[0m |\n"
     ]
    },
    {
     "name": "stderr",
     "output_type": "stream",
     "text": [
      "5it [00:00,  8.51it/s]"
     ]
    },
    {
     "name": "stdout",
     "output_type": "stream",
     "text": [
      "| \u001b[0m12       \u001b[0m | \u001b[0m-10.68   \u001b[0m | \u001b[0m0.001    \u001b[0m | \u001b[0m0.5      \u001b[0m | \u001b[0m15.0     \u001b[0m | \u001b[0m100.0    \u001b[0m | \u001b[0m1.0      \u001b[0m |\n",
      "=====================================================================================\n",
      "{'target': -8.729649822614714, 'params': {'colsample_bytree': 0.3808758277895758, 'learning_rate': 0.07163939963288986, 'max_depth': 6.116288851477059, 'n_estimators': 568.7468140644572, 'subsample': 0.367906040574913}}\n"
     ]
    },
    {
     "name": "stderr",
     "output_type": "stream",
     "text": [
      "\n"
     ]
    }
   ],
   "source": [
    "import numpy as np\n",
    "import pandas as pd\n",
    "import warnings\n",
    "from tqdm import tqdm\n",
    "warnings.filterwarnings(\"ignore\")\n",
    "from xgboost import XGBRegressor\n",
    "from sklearn.metrics import mean_squared_error \n",
    "from bayes_opt import BayesianOptimization\n",
    "from sklearn.model_selection import KFold\n",
    "def xgb_evaluate(n_estimators,max_depth,subsample\n",
    "                ,colsample_bytree,learning_rate):\n",
    "    model=XGBRegressor(n_estimators=int(n_estimators),\n",
    "                          max_depth=int(max_depth),\n",
    "                          subsample=subsample,\n",
    "                          colsample_bytree=colsample_bytree,\n",
    "                          learning_rate=learning_rate,n_jobs=-1,\n",
    "#                           tree_method='gpu_hist',\n",
    "#                           predictor='gpu_predictor',\n",
    "                          eval_metric=\"rmse\")\n",
    "    rmse_scores=[]\n",
    "    kf = KFold(n_splits = 5)\n",
    "    for train_ix, test_ix in tqdm(kf.split(train)):\n",
    "        X_train, X_test = train[train_ix], train[test_ix]\n",
    "        Y_train, Y_test = ytrain[train_ix], ytrain[test_ix]\n",
    "        model.fit(X_train,Y_train)\n",
    "        pred = model.predict(X_test)\n",
    "        rmse_scores.append(-np.sqrt(mean_squared_error(Y_test,pred)))\n",
    "    val=np.mean(rmse_scores)\n",
    "    return val\n",
    "pbounds = {'max_depth': (5,15),\n",
    "           'n_estimators': (100,1000),\n",
    "           \"subsample\":(0.001, 1),\n",
    "           \"colsample_bytree\":(0.001,1),\n",
    "           \"learning_rate\":(0.05,0.5)}\n",
    "xgb_bo = BayesianOptimization(\n",
    "        f=xgb_evaluate,   # Objective function\n",
    "        pbounds=pbounds,  # Value space\n",
    "        verbose=2,\n",
    "        random_state=2,\n",
    ")\n",
    "xgb_bo.maximize(init_points=10,   # Steps of random search\n",
    "                   n_iter=2,    # Number of iterations to perform Bayesian optimization\n",
    "                   acq='ei')\n",
    "print(xgb_bo.max)\n",
    "res_xgb = xgb_bo.max\n",
    "params_xgb = res_xgb['params']\n",
    "for key in params_xgb:\n",
    "    if key in [\"max_depth\",\"n_estimators\"]:\n",
    "        params_xgb[key]=int(params_xgb[key])"
   ]
  },
  {
   "cell_type": "code",
   "execution_count": 4,
   "id": "ac75aef3",
   "metadata": {},
   "outputs": [
    {
     "name": "stdout",
     "output_type": "stream",
     "text": [
      "|   iter    |  target   | max_depth | max_fe... | min_sa... | n_esti... |\n",
      "-------------------------------------------------------------------------\n"
     ]
    },
    {
     "name": "stderr",
     "output_type": "stream",
     "text": [
      "5it [00:06,  1.34s/it]\n"
     ]
    },
    {
     "name": "stdout",
     "output_type": "stream",
     "text": [
      "| \u001b[0m1        \u001b[0m | \u001b[0m-8.491   \u001b[0m | \u001b[0m9.17     \u001b[0m | \u001b[0m0.7476   \u001b[0m | \u001b[0m2.003    \u001b[0m | \u001b[0m372.1    \u001b[0m |\n"
     ]
    },
    {
     "name": "stderr",
     "output_type": "stream",
     "text": [
      "5it [00:02,  1.96it/s]\n"
     ]
    },
    {
     "name": "stdout",
     "output_type": "stream",
     "text": [
      "| \u001b[0m2        \u001b[0m | \u001b[0m-8.561   \u001b[0m | \u001b[0m6.468    \u001b[0m | \u001b[0m0.183    \u001b[0m | \u001b[0m6.284    \u001b[0m | \u001b[0m411.0    \u001b[0m |\n"
     ]
    },
    {
     "name": "stderr",
     "output_type": "stream",
     "text": [
      "5it [00:08,  1.66s/it]\n"
     ]
    },
    {
     "name": "stdout",
     "output_type": "stream",
     "text": [
      "| \u001b[95m3        \u001b[0m | \u001b[95m-8.469   \u001b[0m | \u001b[95m8.968    \u001b[0m | \u001b[95m0.5844   \u001b[0m | \u001b[95m11.64    \u001b[0m | \u001b[95m716.7    \u001b[0m |\n"
     ]
    },
    {
     "name": "stderr",
     "output_type": "stream",
     "text": [
      "5it [00:12,  2.58s/it]\n"
     ]
    },
    {
     "name": "stdout",
     "output_type": "stream",
     "text": [
      "| \u001b[0m4        \u001b[0m | \u001b[0m-8.483   \u001b[0m | \u001b[0m7.045    \u001b[0m | \u001b[0m0.8894   \u001b[0m | \u001b[0m2.63     \u001b[0m | \u001b[0m703.4    \u001b[0m |\n"
     ]
    },
    {
     "name": "stderr",
     "output_type": "stream",
     "text": [
      "5it [00:04,  1.22it/s]\n"
     ]
    },
    {
     "name": "stdout",
     "output_type": "stream",
     "text": [
      "| \u001b[0m5        \u001b[0m | \u001b[0m-8.473   \u001b[0m | \u001b[0m9.173    \u001b[0m | \u001b[0m0.6023   \u001b[0m | \u001b[0m5.229    \u001b[0m | \u001b[0m278.3    \u001b[0m |\n"
     ]
    },
    {
     "name": "stderr",
     "output_type": "stream",
     "text": [
      "5it [00:05,  1.16s/it]\n"
     ]
    },
    {
     "name": "stdout",
     "output_type": "stream",
     "text": [
      "| \u001b[0m6        \u001b[0m | \u001b[0m-8.546   \u001b[0m | \u001b[0m7.28     \u001b[0m | \u001b[0m0.3033   \u001b[0m | \u001b[0m11.97    \u001b[0m | \u001b[0m716.1    \u001b[0m |\n"
     ]
    },
    {
     "name": "stderr",
     "output_type": "stream",
     "text": [
      "5it [00:07,  1.50s/it]\n"
     ]
    },
    {
     "name": "stdout",
     "output_type": "stream",
     "text": [
      "| \u001b[95m7        \u001b[0m | \u001b[95m-8.458   \u001b[0m | \u001b[95m9.426    \u001b[0m | \u001b[95m0.4717   \u001b[0m | \u001b[95m14.6     \u001b[0m | \u001b[95m769.8    \u001b[0m |\n"
     ]
    },
    {
     "name": "stderr",
     "output_type": "stream",
     "text": [
      "5it [00:05,  1.13s/it]\n"
     ]
    },
    {
     "name": "stdout",
     "output_type": "stream",
     "text": [
      "| \u001b[0m8        \u001b[0m | \u001b[0m-8.537   \u001b[0m | \u001b[0m11.23    \u001b[0m | \u001b[0m0.3007   \u001b[0m | \u001b[0m24.06    \u001b[0m | \u001b[0m824.2    \u001b[0m |\n"
     ]
    },
    {
     "name": "stderr",
     "output_type": "stream",
     "text": [
      "5it [00:07,  1.59s/it]\n"
     ]
    },
    {
     "name": "stdout",
     "output_type": "stream",
     "text": [
      "| \u001b[0m9        \u001b[0m | \u001b[0m-8.481   \u001b[0m | \u001b[0m5.212    \u001b[0m | \u001b[0m0.8263   \u001b[0m | \u001b[0m24.19    \u001b[0m | \u001b[0m731.9    \u001b[0m |\n"
     ]
    },
    {
     "name": "stderr",
     "output_type": "stream",
     "text": [
      "5it [00:05,  1.14s/it]"
     ]
    },
    {
     "name": "stdout",
     "output_type": "stream",
     "text": [
      "| \u001b[0m10       \u001b[0m | \u001b[0m-8.548   \u001b[0m | \u001b[0m8.644    \u001b[0m | \u001b[0m0.1201   \u001b[0m | \u001b[0m5.506    \u001b[0m | \u001b[0m974.4    \u001b[0m |\n",
      "=========================================================================\n",
      "{'target': -8.458459680412139, 'params': {'max_depth': 9.425573174554623, 'max_features': 0.47171016643272623, 'min_samples_split': 14.599513753070427, 'n_estimators': 769.7814234177125}}\n"
     ]
    },
    {
     "name": "stderr",
     "output_type": "stream",
     "text": [
      "\n"
     ]
    }
   ],
   "source": [
    "from sklearn.ensemble import RandomForestRegressor\n",
    "def rf_evaluate(n_estimators,max_depth,max_features\n",
    "                ,min_samples_split):\n",
    "    model = RandomForestRegressor(n_estimators=int(n_estimators),\n",
    "                                   max_depth=int(max_depth),\n",
    "                                   max_features=min(max_features, 0.999),\n",
    "                                   min_samples_split=int(min_samples_split),\n",
    "                                   n_jobs=-1)\n",
    "    kf=KFold(n_splits=5)\n",
    "    rmse_scores=[]\n",
    "    for train_ix, test_ix in tqdm(kf.split(train)):\n",
    "        X_train, X_test = train[train_ix], train[test_ix]\n",
    "        Y_train, Y_test = ytrain[train_ix], ytrain[test_ix]\n",
    "        model.fit(X_train,Y_train)\n",
    "        pred = model.predict(X_test)\n",
    "        rmse_scores.append(-np.sqrt(mean_squared_error(Y_test,pred)))\n",
    "    val=np.mean(rmse_scores)\n",
    "    return val\n",
    "\n",
    "pbounds = {'max_depth': (5, 15),\n",
    "           'n_estimators': (100,1000),\n",
    "           \"max_features\":(0.1, 0.999),\n",
    "           \"min_samples_split\":(2,25)}\n",
    "rf_bo = BayesianOptimization(\n",
    "        f=rf_evaluate,   \n",
    "        pbounds=pbounds,  \n",
    "        verbose=2,  \n",
    "        random_state=1,\n",
    ")\n",
    "rf_bo.maximize(init_points=5,   \n",
    "                   n_iter=5,    \n",
    "                   acq='ei')\n",
    "print(rf_bo.max)\n",
    "res_rf = rf_bo.max\n",
    "params_rf = res_rf['params']\n",
    "\"\"\"\n",
    "Partial hyperparameter integerization\n",
    "\"\"\"\n",
    "for key in params_rf:\n",
    "    if key in [\"max_depth\",\"min_samples_split\",\"n_estimators\"]:\n",
    "        params_rf[key]=int(params_rf[key])"
   ]
  },
  {
   "cell_type": "code",
   "execution_count": 6,
   "id": "fee0b3b0",
   "metadata": {},
   "outputs": [
    {
     "name": "stdout",
     "output_type": "stream",
     "text": [
      "|   iter    |  target   | colsam... | learni... | max_depth | n_esti... | num_le... | subsample |\n",
      "-------------------------------------------------------------------------------------------------\n"
     ]
    },
    {
     "name": "stderr",
     "output_type": "stream",
     "text": [
      "5it [00:01,  4.50it/s]\n"
     ]
    },
    {
     "name": "stdout",
     "output_type": "stream",
     "text": [
      "| \u001b[0m1        \u001b[0m | \u001b[0m-8.744   \u001b[0m | \u001b[0m0.8834   \u001b[0m | \u001b[0m0.3602   \u001b[0m | \u001b[0m3.0      \u001b[0m | \u001b[0m372.1    \u001b[0m | \u001b[0m8.816    \u001b[0m | \u001b[0m0.8185   \u001b[0m |\n"
     ]
    },
    {
     "name": "stderr",
     "output_type": "stream",
     "text": [
      "5it [00:01,  2.81it/s]\n"
     ]
    },
    {
     "name": "stdout",
     "output_type": "stream",
     "text": [
      "| \u001b[0m2        \u001b[0m | \u001b[0m-8.844   \u001b[0m | \u001b[0m0.8373   \u001b[0m | \u001b[0m0.1728   \u001b[0m | \u001b[0m4.587    \u001b[0m | \u001b[0m584.9    \u001b[0m | \u001b[0m15.9     \u001b[0m | \u001b[0m0.937    \u001b[0m |\n"
     ]
    },
    {
     "name": "stderr",
     "output_type": "stream",
     "text": [
      "5it [00:02,  2.49it/s]\n"
     ]
    },
    {
     "name": "stdout",
     "output_type": "stream",
     "text": [
      "| \u001b[0m3        \u001b[0m | \u001b[0m-9.425   \u001b[0m | \u001b[0m0.8409   \u001b[0m | \u001b[0m0.4391   \u001b[0m | \u001b[0m3.11     \u001b[0m | \u001b[0m703.4    \u001b[0m | \u001b[0m15.85    \u001b[0m | \u001b[0m0.9117   \u001b[0m |\n"
     ]
    },
    {
     "name": "stderr",
     "output_type": "stream",
     "text": [
      "5it [00:03,  1.49it/s]\n"
     ]
    },
    {
     "name": "stdout",
     "output_type": "stream",
     "text": [
      "| \u001b[0m4        \u001b[0m | \u001b[0m-8.963   \u001b[0m | \u001b[0m0.8281   \u001b[0m | \u001b[0m0.09913  \u001b[0m | \u001b[0m6.203    \u001b[0m | \u001b[0m971.4    \u001b[0m | \u001b[0m13.15    \u001b[0m | \u001b[0m0.9385   \u001b[0m |\n"
     ]
    },
    {
     "name": "stderr",
     "output_type": "stream",
     "text": [
      "5it [00:00,  6.99it/s]\n"
     ]
    },
    {
     "name": "stdout",
     "output_type": "stream",
     "text": [
      "| \u001b[0m5        \u001b[0m | \u001b[0m-9.299   \u001b[0m | \u001b[0m0.9753   \u001b[0m | \u001b[0m0.4473   \u001b[0m | \u001b[0m3.34     \u001b[0m | \u001b[0m135.1    \u001b[0m | \u001b[0m9.416    \u001b[0m | \u001b[0m0.9756   \u001b[0m |\n"
     ]
    },
    {
     "name": "stderr",
     "output_type": "stream",
     "text": [
      "5it [00:01,  3.35it/s]\n"
     ]
    },
    {
     "name": "stdout",
     "output_type": "stream",
     "text": [
      "| \u001b[0m6        \u001b[0m | \u001b[0m-8.927   \u001b[0m | \u001b[0m0.9582   \u001b[0m | \u001b[0m0.1481   \u001b[0m | \u001b[0m3.031    \u001b[0m | \u001b[0m371.6    \u001b[0m | \u001b[0m7.974    \u001b[0m | \u001b[0m0.8034   \u001b[0m |\n"
     ]
    },
    {
     "name": "stderr",
     "output_type": "stream",
     "text": [
      "5it [00:01,  3.93it/s]\n"
     ]
    },
    {
     "name": "stdout",
     "output_type": "stream",
     "text": [
      "| \u001b[95m7        \u001b[0m | \u001b[95m-8.707   \u001b[0m | \u001b[95m0.8161   \u001b[0m | \u001b[95m0.118    \u001b[0m | \u001b[95m3.862    \u001b[0m | \u001b[95m371.9    \u001b[0m | \u001b[95m10.92    \u001b[0m | \u001b[95m0.906    \u001b[0m |\n"
     ]
    },
    {
     "name": "stderr",
     "output_type": "stream",
     "text": [
      "5it [00:01,  2.83it/s]\n"
     ]
    },
    {
     "name": "stdout",
     "output_type": "stream",
     "text": [
      "| \u001b[0m8        \u001b[0m | \u001b[0m-8.804   \u001b[0m | \u001b[0m0.9767   \u001b[0m | \u001b[0m0.084    \u001b[0m | \u001b[0m5.955    \u001b[0m | \u001b[0m375.3    \u001b[0m | \u001b[0m10.39    \u001b[0m | \u001b[0m0.8588   \u001b[0m |\n"
     ]
    },
    {
     "name": "stderr",
     "output_type": "stream",
     "text": [
      "5it [00:01,  3.93it/s]\n"
     ]
    },
    {
     "name": "stdout",
     "output_type": "stream",
     "text": [
      "| \u001b[0m9        \u001b[0m | \u001b[0m-9.542   \u001b[0m | \u001b[0m0.8485   \u001b[0m | \u001b[0m0.4725   \u001b[0m | \u001b[0m3.615    \u001b[0m | \u001b[0m374.6    \u001b[0m | \u001b[0m9.987    \u001b[0m | \u001b[0m0.8641   \u001b[0m |\n"
     ]
    },
    {
     "name": "stderr",
     "output_type": "stream",
     "text": [
      "5it [00:01,  3.95it/s]"
     ]
    },
    {
     "name": "stdout",
     "output_type": "stream",
     "text": [
      "| \u001b[0m10       \u001b[0m | \u001b[0m-9.479   \u001b[0m | \u001b[0m0.8298   \u001b[0m | \u001b[0m0.3836   \u001b[0m | \u001b[0m3.586    \u001b[0m | \u001b[0m372.0    \u001b[0m | \u001b[0m10.26    \u001b[0m | \u001b[0m0.9356   \u001b[0m |\n",
      "=================================================================================================\n",
      "{'target': -8.707259926928009, 'params': {'colsample_bytree': 0.8161109366683587, 'learning_rate': 0.11800247683159068, 'max_depth': 3.862318691254715, 'n_estimators': 371.92423104276736, 'num_leaves': 10.918975060678271, 'subsample': 0.9059866217469905}}\n"
     ]
    },
    {
     "name": "stderr",
     "output_type": "stream",
     "text": [
      "\n"
     ]
    }
   ],
   "source": [
    "from lightgbm import LGBMRegressor\n",
    "def lgb_evaluate(n_estimators,max_depth,num_leaves\n",
    "                ,subsample,colsample_bytree,learning_rate):\n",
    "    model = LGBMRegressor(n_estimators=int(n_estimators),\n",
    "                           max_depth=int(max_depth),\n",
    "                           num_leaves=int(num_leaves),\n",
    "                           subsample=subsample,\n",
    "                           colsample_bytree=colsample_bytree,\n",
    "                           learning_rate=learning_rate,n_jobs=-1)\n",
    "    kf=KFold(n_splits=5)\n",
    "    rmse_scores=[]\n",
    "    for train_ix, test_ix in tqdm(kf.split(train)):\n",
    "        X_train, X_test = train[train_ix], train[test_ix]\n",
    "        Y_train, Y_test = ytrain[train_ix], ytrain[test_ix]\n",
    "        model.fit(X_train,Y_train)\n",
    "        pred = model.predict(X_test)\n",
    "        rmse_scores.append(-np.sqrt(mean_squared_error(Y_test,pred)))\n",
    "    val=np.mean(rmse_scores)\n",
    "    return val\n",
    "from random import choice\n",
    "pbounds = {'max_depth': (3,7),\n",
    "           \"num_leaves\":(5,31),\n",
    "           'n_estimators': (100,1000),\n",
    "           \"subsample\":(0.8, 1),\n",
    "           \"colsample_bytree\":(0.8,1),\n",
    "           \"learning_rate\":(0.0001,0.5)}\n",
    "lgb_bo = BayesianOptimization(\n",
    "        f=lgb_evaluate,   \n",
    "        pbounds=pbounds,  \n",
    "        verbose=2,  \n",
    "        random_state=1,\n",
    ")\n",
    "lgb_bo.maximize(init_points=5,   \n",
    "                   n_iter=5)\n",
    "print(lgb_bo.max)\n",
    "res_lgb = lgb_bo.max\n",
    "params_lgb = res_lgb['params']\n",
    "for key in params_lgb:\n",
    "    if key in [\"max_depth\",\"num_leaves\",\"n_estimators\"]:\n",
    "        params_lgb[key]=int(params_lgb[key])"
   ]
  },
  {
   "cell_type": "code",
   "execution_count": 8,
   "id": "5895536d",
   "metadata": {
    "scrolled": false
   },
   "outputs": [
    {
     "name": "stdout",
     "output_type": "stream",
     "text": [
      "|   iter    |  target   |     a     |     b     |     c     |\n",
      "-------------------------------------------------------------\n"
     ]
    },
    {
     "name": "stderr",
     "output_type": "stream",
     "text": [
      "5it [00:11,  2.38s/it]\n"
     ]
    },
    {
     "name": "stdout",
     "output_type": "stream",
     "text": [
      "| \u001b[0m1        \u001b[0m | \u001b[0m-8.462   \u001b[0m | \u001b[0m0.4753   \u001b[0m | \u001b[0m0.7483   \u001b[0m | \u001b[0m0.1001   \u001b[0m |\n"
     ]
    },
    {
     "name": "stderr",
     "output_type": "stream",
     "text": [
      "5it [00:12,  2.55s/it]\n"
     ]
    },
    {
     "name": "stdout",
     "output_type": "stream",
     "text": [
      "| \u001b[0m2        \u001b[0m | \u001b[0m-8.468   \u001b[0m | \u001b[0m0.3721   \u001b[0m | \u001b[0m0.2321   \u001b[0m | \u001b[0m0.1831   \u001b[0m |\n"
     ]
    },
    {
     "name": "stderr",
     "output_type": "stream",
     "text": [
      "5it [00:13,  2.62s/it]\n"
     ]
    },
    {
     "name": "stdout",
     "output_type": "stream",
     "text": [
      "| \u001b[95m3        \u001b[0m | \u001b[95m-8.437   \u001b[0m | \u001b[95m0.2676   \u001b[0m | \u001b[95m0.411    \u001b[0m | \u001b[95m0.4571   \u001b[0m |\n"
     ]
    },
    {
     "name": "stderr",
     "output_type": "stream",
     "text": [
      "5it [00:11,  2.38s/it]\n"
     ]
    },
    {
     "name": "stdout",
     "output_type": "stream",
     "text": [
      "| \u001b[0m4        \u001b[0m | \u001b[0m-8.446   \u001b[0m | \u001b[0m0.5849   \u001b[0m | \u001b[0m0.4773   \u001b[0m | \u001b[0m0.7167   \u001b[0m |\n"
     ]
    },
    {
     "name": "stderr",
     "output_type": "stream",
     "text": [
      "5it [00:14,  2.98s/it]\n"
     ]
    },
    {
     "name": "stdout",
     "output_type": "stream",
     "text": [
      "| \u001b[0m5        \u001b[0m | \u001b[0m-8.478   \u001b[0m | \u001b[0m0.284    \u001b[0m | \u001b[0m0.8903   \u001b[0m | \u001b[0m0.1246   \u001b[0m |\n"
     ]
    },
    {
     "name": "stderr",
     "output_type": "stream",
     "text": [
      "5it [00:12,  2.49s/it]\n"
     ]
    },
    {
     "name": "stdout",
     "output_type": "stream",
     "text": [
      "| \u001b[0m6        \u001b[0m | \u001b[0m-8.441   \u001b[0m | \u001b[0m0.3711   \u001b[0m | \u001b[0m0.4399   \u001b[0m | \u001b[0m0.5598   \u001b[0m |\n"
     ]
    },
    {
     "name": "stderr",
     "output_type": "stream",
     "text": [
      "5it [00:11,  2.40s/it]\n"
     ]
    },
    {
     "name": "stdout",
     "output_type": "stream",
     "text": [
      "| \u001b[0m7        \u001b[0m | \u001b[0m-8.475   \u001b[0m | \u001b[0m0.1      \u001b[0m | \u001b[0m0.3951   \u001b[0m | \u001b[0m0.6281   \u001b[0m |\n"
     ]
    },
    {
     "name": "stderr",
     "output_type": "stream",
     "text": [
      "5it [00:11,  2.34s/it]\n"
     ]
    },
    {
     "name": "stdout",
     "output_type": "stream",
     "text": [
      "| \u001b[95m8        \u001b[0m | \u001b[95m-8.431   \u001b[0m | \u001b[95m0.3633   \u001b[0m | \u001b[95m0.4918   \u001b[0m | \u001b[95m0.4163   \u001b[0m |\n"
     ]
    },
    {
     "name": "stderr",
     "output_type": "stream",
     "text": [
      "5it [00:11,  2.28s/it]\n"
     ]
    },
    {
     "name": "stdout",
     "output_type": "stream",
     "text": [
      "| \u001b[0m9        \u001b[0m | \u001b[0m-8.502   \u001b[0m | \u001b[0m0.3048   \u001b[0m | \u001b[0m0.24     \u001b[0m | \u001b[0m0.9526   \u001b[0m |\n"
     ]
    },
    {
     "name": "stderr",
     "output_type": "stream",
     "text": [
      "5it [00:14,  2.81s/it]"
     ]
    },
    {
     "name": "stdout",
     "output_type": "stream",
     "text": [
      "| \u001b[0m10       \u001b[0m | \u001b[0m-8.458   \u001b[0m | \u001b[0m0.7536   \u001b[0m | \u001b[0m0.7558   \u001b[0m | \u001b[0m0.2752   \u001b[0m |\n",
      "=============================================================\n",
      "{'target': -8.430807310328131, 'params': {'a': 0.3632867907176822, 'b': 0.491802199550132, 'c': 0.41631651088904625}}\n"
     ]
    },
    {
     "name": "stderr",
     "output_type": "stream",
     "text": [
      "\n"
     ]
    }
   ],
   "source": [
    "def model_fusion(a,b,c):\n",
    "    xgb=XGBRegressor(**params_xgb,\n",
    "                          eval_metric=\"rmse\",n_jobs=-1)\n",
    "    rf=RandomForestRegressor(**params_rf,n_jobs=-1)\n",
    "    lgb=LGBMRegressor(**params_lgb,n_jobs=-1)\n",
    "    kf=KFold(n_splits=5)\n",
    "    rmse_scores=[]\n",
    "    for train_ix, test_ix in tqdm(kf.split(train)):\n",
    "        X_train, X_test = train[train_ix], train[test_ix]\n",
    "        Y_train, Y_test = ytrain[train_ix], ytrain[test_ix]\n",
    "        xgb.fit(X_train,Y_train)\n",
    "        rf.fit(X_train,Y_train)\n",
    "        lgb.fit(X_train,Y_train)\n",
    "        pred = (a*xgb.predict(X_test)+b*rf.predict(X_test)+c*lgb.predict(X_test))/(a+b+c)\n",
    "        rmse_scores.append(-np.sqrt(mean_squared_error(Y_test,pred)))\n",
    "    val=np.mean(rmse_scores)\n",
    "    return val\n",
    "pbounds = {'a': (0.1,1),\n",
    "           \"b\":(0.1,1),\n",
    "           'c': (0.1,1)}\n",
    "lgb_bo = BayesianOptimization(\n",
    "        f=model_fusion,   \n",
    "        pbounds=pbounds,  \n",
    "        verbose=2,  \n",
    "        random_state=1,\n",
    ")\n",
    "lgb_bo.maximize(init_points=5,   \n",
    "                   n_iter=5)\n",
    "print(lgb_bo.max)\n",
    "res_lgb = lgb_bo.max\n",
    "params_= res_lgb['params']"
   ]
  },
  {
   "cell_type": "code",
   "execution_count": 9,
   "id": "005fe4c7",
   "metadata": {},
   "outputs": [],
   "source": [
    "xgb=XGBRegressor(**params_xgb,eval_metric=\"rmse\",n_jobs=-1)\n",
    "xgb.fit(train,ytrain)\n",
    "rf=RandomForestRegressor(**params_rf,n_jobs=-1)\n",
    "rf.fit(train,ytrain)\n",
    "lgb=LGBMRegressor(**params_lgb,n_jobs=-1)\n",
    "lgb.fit(train,ytrain)\n",
    "pred = (params_[\"a\"]*xgb.predict(train)+params_[\"b\"]*rf.predict(train)+params_[\"c\"]*lgb.predict(train))/(params_[\"a\"]+\\\n",
    "                                                                                                     params_[\"b\"]+\\\n",
    "                                                                                                     params_[\"c\"])"
   ]
  },
  {
   "cell_type": "code",
   "execution_count": 10,
   "id": "8920de61",
   "metadata": {},
   "outputs": [
    {
     "data": {
      "text/plain": [
       "['xgb.dat']"
      ]
     },
     "execution_count": 10,
     "metadata": {},
     "output_type": "execute_result"
    }
   ],
   "source": [
    "import joblib\n",
    "joblib.dump(xgb, \"xgb.dat\")"
   ]
  },
  {
   "cell_type": "code",
   "execution_count": 11,
   "id": "7767b1cb",
   "metadata": {},
   "outputs": [
    {
     "data": {
      "text/plain": [
       "['rf.pkl']"
      ]
     },
     "execution_count": 11,
     "metadata": {},
     "output_type": "execute_result"
    }
   ],
   "source": [
    "joblib.dump(rf, \"rf.pkl\")"
   ]
  },
  {
   "cell_type": "code",
   "execution_count": 12,
   "id": "57113790",
   "metadata": {},
   "outputs": [
    {
     "data": {
      "text/plain": [
       "['lgb.pkl']"
      ]
     },
     "execution_count": 12,
     "metadata": {},
     "output_type": "execute_result"
    }
   ],
   "source": [
    "joblib.dump(lgb, \"lgb.pkl\")"
   ]
  },
  {
   "cell_type": "code",
   "execution_count": null,
   "id": "f223c7a7",
   "metadata": {},
   "outputs": [],
   "source": []
  }
 ],
 "metadata": {
  "kernelspec": {
   "display_name": "Python 3 (ipykernel)",
   "language": "python",
   "name": "python3"
  },
  "language_info": {
   "codemirror_mode": {
    "name": "ipython",
    "version": 3
   },
   "file_extension": ".py",
   "mimetype": "text/x-python",
   "name": "python",
   "nbconvert_exporter": "python",
   "pygments_lexer": "ipython3",
   "version": "3.9.13"
  }
 },
 "nbformat": 4,
 "nbformat_minor": 5
}
