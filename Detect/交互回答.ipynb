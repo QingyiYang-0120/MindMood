{
 "cells": [
  {
   "cell_type": "code",
   "execution_count": 3,
   "id": "baa47ace",
   "metadata": {},
   "outputs": [
    {
     "name": "stdout",
     "output_type": "stream",
     "text": [
      "请输入你的真实姓名:\n",
      "雷杰睿\n"
     ]
    }
   ],
   "source": [
    "import time\n",
    "import urllib\n",
    "import json\n",
    "import hashlib\n",
    "import base64\n",
    "import urllib.request\n",
    "import urllib.parse\n",
    "import pyaudio\n",
    "from pyaudio import PyAudio, paInt16\n",
    "import numpy as np\n",
    "from datetime import datetime\n",
    "import wave\n",
    "import os\n",
    "from tqdm import tqdm\n",
    "chunk = 1024  # 每个缓冲区的帧数\n",
    "formats = pyaudio.paInt16  # 采样位数\n",
    "channels = 1  # 单声道\n",
    "rate = 44100  # 采样频率\n",
    "def record_audio(wave_out_path, record_second):\n",
    "    \"\"\" 录音功能 \"\"\"\n",
    "    p = pyaudio.PyAudio()\n",
    "    stream = p.open(format=formats,\n",
    "                    channels=channels,\n",
    "                    rate=rate,\n",
    "                    input=True,\n",
    "                    frames_per_buffer=chunk)#一次读多少\n",
    "    wf = wave.open(wave_out_path, 'wb')\n",
    "    wf.setnchannels(channels)#声道数设置\n",
    "    wf.setsampwidth(p.get_sample_size(formats))#采样位数\n",
    "    wf.setframerate(rate)# 采样频率设置\n",
    "    for _ in tqdm(range(0, int(rate*record_second/chunk))):\n",
    "        data = stream.read(chunk)\n",
    "        wf.writeframes(data)#将数据写入\n",
    "    stream.stop_stream()#关闭流\n",
    "    stream.close()\n",
    "    p.terminate()\n",
    "    wf.close()\n",
    "print(\"请输入你的真实姓名:\")\n",
    "name=input(\"\")\n",
    "if os.path.isdir(\"E:/ICASSP2022-Depression-main/新用户/\"+name+\"/\")==False:\n",
    "    os.makedirs(os.path.dirname(\"E:/ICASSP2022-Depression-main/新用户/\"+name+\"/\"), exist_ok=True)"
   ]
  },
  {
   "cell_type": "code",
   "execution_count": 4,
   "id": "f100a88f",
   "metadata": {},
   "outputs": [
    {
     "name": "stdout",
     "output_type": "stream",
     "text": [
      "开始书写一下最近让你感到positive的事情\n",
      "比较快乐的事情就是出去玩耍，还有就是设计这个抑郁检测系统的功能吧\n",
      "开始录制positive的回答（概述一下你的回答，持续10秒钟）\n"
     ]
    },
    {
     "name": "stderr",
     "output_type": "stream",
     "text": [
      "100%|████████████████████████████████████████| 430/430 [00:09<00:00, 43.14it/s]\n"
     ]
    },
    {
     "name": "stdout",
     "output_type": "stream",
     "text": [
      "录制结束\n",
      "开始书写一下最近让你感到negative的事情\n",
      "怎么说就是未来干什么，还有看赛尔号赫尔托克他们都死了，很难受\n",
      "开始录制negative的回答（概述一下你的回答，持续10秒钟）\n"
     ]
    },
    {
     "name": "stderr",
     "output_type": "stream",
     "text": [
      "100%|████████████████████████████████████████| 430/430 [00:09<00:00, 43.04it/s]\n"
     ]
    },
    {
     "name": "stdout",
     "output_type": "stream",
     "text": [
      "录制结束\n",
      "开始书写一下最近让你感到neutral的事情\n",
      "和家里人通话吧，还有就是准备一些别的工作吧\n",
      "开始录制neutral的回答（概述一下你的回答，持续10秒钟）\n"
     ]
    },
    {
     "name": "stderr",
     "output_type": "stream",
     "text": [
      "100%|████████████████████████████████████████| 430/430 [00:09<00:00, 43.22it/s]\n"
     ]
    },
    {
     "name": "stdout",
     "output_type": "stream",
     "text": [
      "录制结束\n"
     ]
    }
   ],
   "source": [
    "import soundfile as sf\n",
    "import librosa\n",
    "topic=[\"positive\",\"negative\",\"neutral\"]\n",
    "files = os.listdir(\"E:/ICASSP2022-Depression-main/新用户/\"+name+\"/\")\n",
    "for i in topic:\n",
    "    print(\"开始书写一下最近让你感到\"+i+\"的事情\")\n",
    "    res=input(\"\")\n",
    "    filename =\"E:/ICASSP2022-Depression-main/新用户/\"+name+\"/\"+str(len(files)+1)+\"/\"+i+\".txt\"\n",
    "    os.makedirs(os.path.dirname(filename), exist_ok=True)\n",
    "    with open(filename, 'w', encoding='utf-8') as f:\n",
    "        f.write(res)\n",
    "        f.close()\n",
    "    print(\"开始录制\"+i+\"的回答（概述一下你的回答，持续10秒钟）\")\n",
    "    record_audio(\"E:/ICASSP2022-Depression-main/新用户/\"+name+\"/\"+str(len(files)+1)+\"/\"+i+\".wav\",10)\n",
    "    y,sr=librosa.load(\"E:/ICASSP2022-Depression-main/新用户/\"+name+\"/\"+str(len(files)+1)+\"/\"+i+\".wav\")\n",
    "    audio_file, _ = librosa.effects.trim(y)\n",
    "    sf.write(\"E:/ICASSP2022-Depression-main/新用户/\"+name+\"/\"+str(len(files)+1)+\"/\"+i+\".wav\",audio_file,sr, format='wav')\n",
    "    print(\"录制结束\")"
   ]
  },
  {
   "cell_type": "code",
   "execution_count": null,
   "id": "682c4f34",
   "metadata": {},
   "outputs": [],
   "source": []
  }
 ],
 "metadata": {
  "kernelspec": {
   "display_name": "Python 3 (ipykernel)",
   "language": "python",
   "name": "python3"
  },
  "language_info": {
   "codemirror_mode": {
    "name": "ipython",
    "version": 3
   },
   "file_extension": ".py",
   "mimetype": "text/x-python",
   "name": "python",
   "nbconvert_exporter": "python",
   "pygments_lexer": "ipython3",
   "version": "3.9.13"
  }
 },
 "nbformat": 4,
 "nbformat_minor": 5
}
